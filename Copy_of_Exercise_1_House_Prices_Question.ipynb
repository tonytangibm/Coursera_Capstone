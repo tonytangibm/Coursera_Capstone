{
  "nbformat": 4,
  "nbformat_minor": 0,
  "metadata": {
    "colab": {
      "name": "Copy of Exercise 1 - House Prices - Question.ipynb",
      "provenance": [],
      "collapsed_sections": [],
      "include_colab_link": true
    },
    "kernelspec": {
      "name": "python3",
      "display_name": "Python 3"
    }
  },
  "cells": [
    {
      "cell_type": "markdown",
      "metadata": {
        "id": "view-in-github",
        "colab_type": "text"
      },
      "source": [
        "<a href=\"https://colab.research.google.com/github/tonytangibm/Coursera_Capstone/blob/master/Copy_of_Exercise_1_House_Prices_Question.ipynb\" target=\"_parent\"><img src=\"https://colab.research.google.com/assets/colab-badge.svg\" alt=\"Open In Colab\"/></a>"
      ]
    },
    {
      "cell_type": "markdown",
      "metadata": {
        "id": "mw2VBrBcgvGa",
        "colab_type": "text"
      },
      "source": [
        "In this exercise you'll try to build a neural network that predicts the price of a house according to a simple formula.\n",
        "\n",
        "So, imagine if house pricing was as easy as a house costs 50k + 50k per bedroom, so that a 1 bedroom house costs 100k, a 2 bedroom house costs 150k etc.\n",
        "\n",
        "How would you create a neural network that learns this relationship so that it would predict a 7 bedroom house as costing close to 400k etc.\n",
        "\n",
        "Hint: Your network might work better if you scale the house price down. You don't have to give the answer 400...it might be better to create something that predicts the number 4, and then your answer is in the 'hundreds of thousands' etc."
      ]
    },
    {
      "cell_type": "code",
      "metadata": {
        "id": "PUNO2E6SeURH",
        "colab_type": "code",
        "outputId": "b576b64a-038a-45f1-f4bd-4df034d01b20",
        "colab": {
          "base_uri": "https://localhost:8080/",
          "height": 1000
        }
      },
      "source": [
        "import tensorflow as tf\n",
        "import numpy as np\n",
        "from tensorflow import keras\n",
        "house_model = tf.keras.Sequential([keras.layers.Dense(units=1, input_shape=[1])]) # Your Code Here#\n",
        "house_model.compile(optimizer='sgd', loss='mean_squared_error')\n",
        "xs = np.array([1.0, 2.0, 3.0, 4.0, 5.0, 6.0], dtype=float) # Your Code Here#\n",
        "ys = np.array([1.0, 1.5, 2.0, 2.5, 3.0, 3.5], dtype=float) # Your Code Here#\n",
        "house_model.fit(xs, ys, epochs=40)\n",
        "print(house_model.predict([7.0])[0][0], 'hundred thousand dollar')"
      ],
      "execution_count": 0,
      "outputs": [
        {
          "output_type": "stream",
          "text": [
            "Train on 6 samples\n",
            "Epoch 1/40\n",
            "6/6 [==============================] - 0s 22ms/sample - loss: 64.4272\n",
            "Epoch 2/40\n",
            "6/6 [==============================] - 0s 620us/sample - loss: 29.8191\n",
            "Epoch 3/40\n",
            "6/6 [==============================] - 0s 671us/sample - loss: 13.8013\n",
            "Epoch 4/40\n",
            "6/6 [==============================] - 0s 598us/sample - loss: 6.3879\n",
            "Epoch 5/40\n",
            "6/6 [==============================] - 0s 491us/sample - loss: 2.9567\n",
            "Epoch 6/40\n",
            "6/6 [==============================] - 0s 200us/sample - loss: 1.3686\n",
            "Epoch 7/40\n",
            "6/6 [==============================] - 0s 213us/sample - loss: 0.6336\n",
            "Epoch 8/40\n",
            "6/6 [==============================] - 0s 196us/sample - loss: 0.2934\n",
            "Epoch 9/40\n",
            "6/6 [==============================] - 0s 191us/sample - loss: 0.1360\n",
            "Epoch 10/40\n",
            "6/6 [==============================] - 0s 226us/sample - loss: 0.0631\n",
            "Epoch 11/40\n",
            "6/6 [==============================] - 0s 189us/sample - loss: 0.0294\n",
            "Epoch 12/40\n",
            "6/6 [==============================] - 0s 197us/sample - loss: 0.0138\n",
            "Epoch 13/40\n",
            "6/6 [==============================] - 0s 218us/sample - loss: 0.0066\n",
            "Epoch 14/40\n",
            "6/6 [==============================] - 0s 193us/sample - loss: 0.0032\n",
            "Epoch 15/40\n",
            "6/6 [==============================] - 0s 193us/sample - loss: 0.0017\n",
            "Epoch 16/40\n",
            "6/6 [==============================] - 0s 188us/sample - loss: 9.4114e-04\n",
            "Epoch 17/40\n",
            "6/6 [==============================] - 0s 187us/sample - loss: 6.0726e-04\n",
            "Epoch 18/40\n",
            "6/6 [==============================] - 0s 203us/sample - loss: 4.5148e-04\n",
            "Epoch 19/40\n",
            "6/6 [==============================] - 0s 201us/sample - loss: 3.7814e-04\n",
            "Epoch 20/40\n",
            "6/6 [==============================] - 0s 203us/sample - loss: 3.4297e-04\n",
            "Epoch 21/40\n",
            "6/6 [==============================] - 0s 189us/sample - loss: 3.2546e-04\n",
            "Epoch 22/40\n",
            "6/6 [==============================] - 0s 180us/sample - loss: 3.1615e-04\n",
            "Epoch 23/40\n",
            "6/6 [==============================] - 0s 191us/sample - loss: 3.1063e-04\n",
            "Epoch 24/40\n",
            "6/6 [==============================] - 0s 237us/sample - loss: 3.0688e-04\n",
            "Epoch 25/40\n",
            "6/6 [==============================] - 0s 234us/sample - loss: 3.0395e-04\n",
            "Epoch 26/40\n",
            "6/6 [==============================] - 0s 232us/sample - loss: 3.0142e-04\n",
            "Epoch 27/40\n",
            "6/6 [==============================] - 0s 231us/sample - loss: 2.9908e-04\n",
            "Epoch 28/40\n",
            "6/6 [==============================] - 0s 219us/sample - loss: 2.9683e-04\n",
            "Epoch 29/40\n",
            "6/6 [==============================] - 0s 226us/sample - loss: 2.9464e-04\n",
            "Epoch 30/40\n",
            "6/6 [==============================] - 0s 251us/sample - loss: 2.9248e-04\n",
            "Epoch 31/40\n",
            "6/6 [==============================] - 0s 240us/sample - loss: 2.9034e-04\n",
            "Epoch 32/40\n",
            "6/6 [==============================] - 0s 235us/sample - loss: 2.8822e-04\n",
            "Epoch 33/40\n",
            "6/6 [==============================] - 0s 227us/sample - loss: 2.8612e-04\n",
            "Epoch 34/40\n",
            "6/6 [==============================] - 0s 228us/sample - loss: 2.8403e-04\n",
            "Epoch 35/40\n",
            "6/6 [==============================] - 0s 231us/sample - loss: 2.8196e-04\n",
            "Epoch 36/40\n",
            "6/6 [==============================] - 0s 233us/sample - loss: 2.7991e-04\n",
            "Epoch 37/40\n",
            "6/6 [==============================] - 0s 230us/sample - loss: 2.7787e-04\n",
            "Epoch 38/40\n",
            "6/6 [==============================] - 0s 231us/sample - loss: 2.7584e-04\n",
            "Epoch 39/40\n",
            "6/6 [==============================] - 0s 234us/sample - loss: 2.7383e-04\n",
            "Epoch 40/40\n",
            "6/6 [==============================] - 0s 233us/sample - loss: 2.7184e-04\n",
            "4.023779 hundred thousand dollar\n"
          ],
          "name": "stdout"
        }
      ]
    },
    {
      "cell_type": "code",
      "metadata": {
        "id": "J_hnsVW2h-SY",
        "colab_type": "code",
        "colab": {}
      },
      "source": [
        ""
      ],
      "execution_count": 0,
      "outputs": []
    }
  ]
}