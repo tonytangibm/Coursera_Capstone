{
  "nbformat": 4,
  "nbformat_minor": 0,
  "metadata": {
    "colab": {
      "name": "Excercise-3-Question.ipynb",
      "provenance": [],
      "collapsed_sections": [],
      "include_colab_link": true
    },
    "kernelspec": {
      "name": "python3",
      "display_name": "Python 3"
    },
    "accelerator": "GPU"
  },
  "cells": [
    {
      "cell_type": "markdown",
      "metadata": {
        "id": "view-in-github",
        "colab_type": "text"
      },
      "source": [
        "<a href=\"https://colab.research.google.com/github/tonytangibm/Coursera_Capstone/blob/master/Excercise_3_Question.ipynb\" target=\"_parent\"><img src=\"https://colab.research.google.com/assets/colab-badge.svg\" alt=\"Open In Colab\"/></a>"
      ]
    },
    {
      "cell_type": "markdown",
      "metadata": {
        "id": "jgo5QZACiey2",
        "colab_type": "text"
      },
      "source": [
        "## Exercise 3\n",
        "In the videos you looked at how you would improve Fashion MNIST using Convolutions. For your exercise see if you can improve MNIST to 99.8% accuracy or more using only a single convolutional layer and a single MaxPooling 2D. You should stop training once the accuracy goes above this amount. It should happen in less than 20 epochs, so it's ok to hard code the number of epochs for training, but your training must end once it hits the above metric. If it doesn't, then you'll need to redesign your layers.\n",
        "\n",
        "I've started the code for you -- you need to finish it!\n",
        "\n",
        "When 99.8% accuracy has been hit, you should print out the string \"Reached 99.8% accuracy so cancelling training!\""
      ]
    },
    {
      "cell_type": "code",
      "metadata": {
        "id": "FV2m3VIaikQT",
        "colab_type": "code",
        "colab": {}
      },
      "source": [
        "import tensorflow as tf\n",
        "from os import path, getcwd, chdir\n",
        "\n",
        "# DO NOT CHANGE THE LINE BELOW. If you are developing in a local\n",
        "# environment, then grab mnist.npz from the Coursera Jupyter Notebook\n",
        "# and place it inside a local folder and edit the path to that location\n",
        "# path = f\"{getcwd()}/../tmp2/mnist.npz\""
      ],
      "execution_count": 0,
      "outputs": []
    },
    {
      "cell_type": "code",
      "metadata": {
        "id": "VQU-hKeyikWF",
        "colab_type": "code",
        "colab": {}
      },
      "source": [
        "config = tf.ConfigProto()\n",
        "config.gpu_options.allow_growth = True\n",
        "sess = tf.Session(config=config)"
      ],
      "execution_count": 0,
      "outputs": []
    },
    {
      "cell_type": "code",
      "metadata": {
        "id": "sI0kLvwrikgI",
        "colab_type": "code",
        "colab": {}
      },
      "source": [
        "class myCallback(tf.keras.callbacks.Callback):\n",
        "  def on_epoch_end(self, epoch, logs={}):\n",
        "    if(logs.get('acc')>0.998):\n",
        "      print(\"\\nReached 99.8% accuracy so cancelling training!\")\n",
        "      self.model.stop_training = True\n",
        "\n",
        "callbacks = myCallback()"
      ],
      "execution_count": 0,
      "outputs": []
    },
    {
      "cell_type": "code",
      "metadata": {
        "id": "nHgF52kLixAR",
        "colab_type": "code",
        "colab": {}
      },
      "source": [
        "# GRADED FUNCTION: train_mnist_conv\n",
        "def train_mnist_conv():\n",
        "    # Please write your code only where you are indicated.\n",
        "    # please do not remove model fitting inline comments.\n",
        "\n",
        "    # YOUR CODE STARTS HERE\n",
        "    \n",
        "    # YOUR CODE ENDS HERE\n",
        "\n",
        "    mnist = tf.keras.datasets.mnist\n",
        "    (training_images, training_labels), (test_images, test_labels) = mnist.load_data()\n",
        "    # YOUR CODE STARTS HERE\n",
        "    training_images=training_images.reshape(60000, 28, 28, 1)\n",
        "    training_images = training_images / 255\n",
        "    test_images = test_images.reshape(10000, 28, 28, 1)\n",
        "    test_images = test_images / 255\n",
        "    # YOUR CODE ENDS HERE\n",
        "\n",
        "    model = tf.keras.models.Sequential([\n",
        "            # YOUR CODE STARTS HERE\n",
        "              tf.keras.layers.Conv2D(32, (3,3), activation='relu', input_shape=(28, 28, 1)),\n",
        "              tf.keras.layers.MaxPooling2D(2, 2),\n",
        "              tf.keras.layers.Flatten(),\n",
        "              tf.keras.layers.Dense(128, activation='relu'),\n",
        "              tf.keras.layers.Dense(10, activation='softmax')\n",
        "            # YOUR CODE ENDS HERE\n",
        "    ])\n",
        "\n",
        "    model.compile(optimizer='adam', loss='sparse_categorical_crossentropy', metrics=['accuracy'])\n",
        "    # model fitting\n",
        "    history = model.fit(\n",
        "        # YOUR CODE STARTS HERE\n",
        "        training_images, training_labels, epochs=20, callbacks=[callbacks]\n",
        "        # YOUR CODE ENDS HERE\n",
        "    )\n",
        "    # model fitting\n",
        "    test_loss, test_acc = model.evaluate(test_images, test_labels)\n",
        "    return history.epoch, history.history['acc'][-1]\n",
        "\n"
      ],
      "execution_count": 0,
      "outputs": []
    },
    {
      "cell_type": "code",
      "metadata": {
        "id": "JB6NTrZpixD9",
        "colab_type": "code",
        "colab": {
          "base_uri": "https://localhost:8080/",
          "height": 442
        },
        "outputId": "81336059-79c2-44b8-bf4d-277f010bc599"
      },
      "source": [
        "_, _ = train_mnist_conv()"
      ],
      "execution_count": 16,
      "outputs": [
        {
          "output_type": "stream",
          "text": [
            "Train on 60000 samples\n",
            "Epoch 1/20\n",
            "60000/60000 [==============================] - 5s 76us/sample - loss: 0.1524 - acc: 0.9542\n",
            "Epoch 2/20\n",
            "60000/60000 [==============================] - 4s 74us/sample - loss: 0.0517 - acc: 0.9844\n",
            "Epoch 3/20\n",
            "60000/60000 [==============================] - 4s 74us/sample - loss: 0.0319 - acc: 0.9902\n",
            "Epoch 4/20\n",
            "60000/60000 [==============================] - 4s 74us/sample - loss: 0.0211 - acc: 0.9932\n",
            "Epoch 5/20\n",
            "60000/60000 [==============================] - 5s 76us/sample - loss: 0.0151 - acc: 0.9950\n",
            "Epoch 6/20\n",
            "60000/60000 [==============================] - 4s 75us/sample - loss: 0.0103 - acc: 0.9967\n",
            "Epoch 7/20\n",
            "60000/60000 [==============================] - 4s 72us/sample - loss: 0.0081 - acc: 0.9974\n",
            "Epoch 8/20\n",
            "60000/60000 [==============================] - 4s 74us/sample - loss: 0.0063 - acc: 0.9979\n",
            "Epoch 9/20\n",
            "60000/60000 [==============================] - 4s 73us/sample - loss: 0.0068 - acc: 0.9974\n",
            "Epoch 10/20\n",
            "59968/60000 [============================>.] - ETA: 0s - loss: 0.0041 - acc: 0.9986\n",
            "Reached 99.8% accuracy so cancelling training!\n",
            "60000/60000 [==============================] - 4s 73us/sample - loss: 0.0041 - acc: 0.9986\n",
            "10000/10000 [==============================] - 0s 48us/sample - loss: 0.0658 - acc: 0.9866\n",
            "0.9866\n"
          ],
          "name": "stdout"
        }
      ]
    },
    {
      "cell_type": "code",
      "metadata": {
        "id": "40PFeY_MixH1",
        "colab_type": "code",
        "colab": {
          "base_uri": "https://localhost:8080/",
          "height": 374
        },
        "outputId": "3890e2db-e4fe-4f70-a232-ce3db76d7b3a"
      },
      "source": [
        "hist_epoch, hist_acc = train_mnist_conv()"
      ],
      "execution_count": 17,
      "outputs": [
        {
          "output_type": "stream",
          "text": [
            "Train on 60000 samples\n",
            "Epoch 1/20\n",
            "60000/60000 [==============================] - 4s 74us/sample - loss: 0.1485 - acc: 0.9577\n",
            "Epoch 2/20\n",
            "60000/60000 [==============================] - 4s 74us/sample - loss: 0.0514 - acc: 0.9842\n",
            "Epoch 3/20\n",
            "60000/60000 [==============================] - 5s 75us/sample - loss: 0.0313 - acc: 0.9906\n",
            "Epoch 4/20\n",
            "60000/60000 [==============================] - 4s 75us/sample - loss: 0.0214 - acc: 0.9934\n",
            "Epoch 5/20\n",
            "60000/60000 [==============================] - 4s 73us/sample - loss: 0.0136 - acc: 0.9958\n",
            "Epoch 6/20\n",
            "60000/60000 [==============================] - 4s 74us/sample - loss: 0.0110 - acc: 0.9963\n",
            "Epoch 7/20\n",
            "60000/60000 [==============================] - 4s 74us/sample - loss: 0.0074 - acc: 0.9974\n",
            "Epoch 8/20\n",
            "59872/60000 [============================>.] - ETA: 0s - loss: 0.0057 - acc: 0.9980\n",
            "Reached 99.8% accuracy so cancelling training!\n",
            "60000/60000 [==============================] - 4s 75us/sample - loss: 0.0057 - acc: 0.9980\n",
            "10000/10000 [==============================] - 1s 52us/sample - loss: 0.0491 - acc: 0.9865\n",
            "0.9865\n"
          ],
          "name": "stdout"
        }
      ]
    },
    {
      "cell_type": "code",
      "metadata": {
        "id": "4OsQxj0xikov",
        "colab_type": "code",
        "colab": {
          "base_uri": "https://localhost:8080/",
          "height": 34
        },
        "outputId": "7133254b-e758-4007-fbdd-bb651d330643"
      },
      "source": [
        "hist_epoch"
      ],
      "execution_count": 18,
      "outputs": [
        {
          "output_type": "execute_result",
          "data": {
            "text/plain": [
              "[0, 1, 2, 3, 4, 5, 6, 7]"
            ]
          },
          "metadata": {
            "tags": []
          },
          "execution_count": 18
        }
      ]
    },
    {
      "cell_type": "code",
      "metadata": {
        "id": "kQWsZ4HIjzhp",
        "colab_type": "code",
        "colab": {
          "base_uri": "https://localhost:8080/",
          "height": 34
        },
        "outputId": "6728c21c-05c7-4642-ce1a-d068149a525a"
      },
      "source": [
        "hist_acc"
      ],
      "execution_count": 19,
      "outputs": [
        {
          "output_type": "execute_result",
          "data": {
            "text/plain": [
              "0.99803334"
            ]
          },
          "metadata": {
            "tags": []
          },
          "execution_count": 19
        }
      ]
    }
  ]
}